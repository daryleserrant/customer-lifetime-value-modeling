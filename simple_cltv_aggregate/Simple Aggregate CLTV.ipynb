{
 "cells": [
  {
   "cell_type": "code",
   "execution_count": 1,
   "id": "6c07fbcc",
   "metadata": {},
   "outputs": [],
   "source": [
    "import pandas as pd\n",
    "import numpy as np\n",
    "from datetime import datetime\n",
    "\n",
    "import matplotlib.pyplot as plt\n",
    "\n",
    "%matplotlib inline"
   ]
  },
  {
   "cell_type": "markdown",
   "id": "eaffc224",
   "metadata": {},
   "source": [
    "Read the dataset, parse the transactions, and create a dataframe"
   ]
  },
  {
   "cell_type": "code",
   "execution_count": 2,
   "id": "09d9f52c",
   "metadata": {},
   "outputs": [],
   "source": [
    "with open('CDNOW_master.txt') as f:\n",
    "    dataset = f.read().split(\"\\n\")"
   ]
  },
  {
   "cell_type": "code",
   "execution_count": 3,
   "id": "10fba0c2",
   "metadata": {},
   "outputs": [],
   "source": [
    "records = []\n",
    "for line in dataset:\n",
    "    if line == '':\n",
    "        continue\n",
    "    row = list(filter(lambda token: token != '', line.split(' ')))\n",
    "    rec = {}\n",
    "    rec['customerID'] = row[0]\n",
    "    rec['purchaseDate'] = datetime.strptime(row[1], '%Y%m%d')\n",
    "    rec['quantity'] = int(row[2])\n",
    "    rec['price'] = float(row[3])\n",
    "    records.append(rec)\n",
    "transactions_df = pd.DataFrame(records)"
   ]
  },
  {
   "cell_type": "code",
   "execution_count": 4,
   "id": "82adbeef",
   "metadata": {},
   "outputs": [
    {
     "data": {
      "text/html": [
       "<div>\n",
       "<style scoped>\n",
       "    .dataframe tbody tr th:only-of-type {\n",
       "        vertical-align: middle;\n",
       "    }\n",
       "\n",
       "    .dataframe tbody tr th {\n",
       "        vertical-align: top;\n",
       "    }\n",
       "\n",
       "    .dataframe thead th {\n",
       "        text-align: right;\n",
       "    }\n",
       "</style>\n",
       "<table border=\"1\" class=\"dataframe\">\n",
       "  <thead>\n",
       "    <tr style=\"text-align: right;\">\n",
       "      <th></th>\n",
       "      <th>customerID</th>\n",
       "      <th>purchaseDate</th>\n",
       "      <th>quantity</th>\n",
       "      <th>price</th>\n",
       "    </tr>\n",
       "  </thead>\n",
       "  <tbody>\n",
       "    <tr>\n",
       "      <th>0</th>\n",
       "      <td>00001</td>\n",
       "      <td>1997-01-01</td>\n",
       "      <td>1</td>\n",
       "      <td>11.77</td>\n",
       "    </tr>\n",
       "    <tr>\n",
       "      <th>1</th>\n",
       "      <td>00002</td>\n",
       "      <td>1997-01-12</td>\n",
       "      <td>1</td>\n",
       "      <td>12.00</td>\n",
       "    </tr>\n",
       "    <tr>\n",
       "      <th>2</th>\n",
       "      <td>00002</td>\n",
       "      <td>1997-01-12</td>\n",
       "      <td>5</td>\n",
       "      <td>77.00</td>\n",
       "    </tr>\n",
       "    <tr>\n",
       "      <th>3</th>\n",
       "      <td>00003</td>\n",
       "      <td>1997-01-02</td>\n",
       "      <td>2</td>\n",
       "      <td>20.76</td>\n",
       "    </tr>\n",
       "    <tr>\n",
       "      <th>4</th>\n",
       "      <td>00003</td>\n",
       "      <td>1997-03-30</td>\n",
       "      <td>2</td>\n",
       "      <td>20.76</td>\n",
       "    </tr>\n",
       "    <tr>\n",
       "      <th>...</th>\n",
       "      <td>...</td>\n",
       "      <td>...</td>\n",
       "      <td>...</td>\n",
       "      <td>...</td>\n",
       "    </tr>\n",
       "    <tr>\n",
       "      <th>69654</th>\n",
       "      <td>23568</td>\n",
       "      <td>1997-04-05</td>\n",
       "      <td>4</td>\n",
       "      <td>83.74</td>\n",
       "    </tr>\n",
       "    <tr>\n",
       "      <th>69655</th>\n",
       "      <td>23568</td>\n",
       "      <td>1997-04-22</td>\n",
       "      <td>1</td>\n",
       "      <td>14.99</td>\n",
       "    </tr>\n",
       "    <tr>\n",
       "      <th>69656</th>\n",
       "      <td>23569</td>\n",
       "      <td>1997-03-25</td>\n",
       "      <td>2</td>\n",
       "      <td>25.74</td>\n",
       "    </tr>\n",
       "    <tr>\n",
       "      <th>69657</th>\n",
       "      <td>23570</td>\n",
       "      <td>1997-03-25</td>\n",
       "      <td>3</td>\n",
       "      <td>51.12</td>\n",
       "    </tr>\n",
       "    <tr>\n",
       "      <th>69658</th>\n",
       "      <td>23570</td>\n",
       "      <td>1997-03-26</td>\n",
       "      <td>2</td>\n",
       "      <td>42.96</td>\n",
       "    </tr>\n",
       "  </tbody>\n",
       "</table>\n",
       "<p>69659 rows × 4 columns</p>\n",
       "</div>"
      ],
      "text/plain": [
       "      customerID purchaseDate  quantity  price\n",
       "0          00001   1997-01-01         1  11.77\n",
       "1          00002   1997-01-12         1  12.00\n",
       "2          00002   1997-01-12         5  77.00\n",
       "3          00003   1997-01-02         2  20.76\n",
       "4          00003   1997-03-30         2  20.76\n",
       "...          ...          ...       ...    ...\n",
       "69654      23568   1997-04-05         4  83.74\n",
       "69655      23568   1997-04-22         1  14.99\n",
       "69656      23569   1997-03-25         2  25.74\n",
       "69657      23570   1997-03-25         3  51.12\n",
       "69658      23570   1997-03-26         2  42.96\n",
       "\n",
       "[69659 rows x 4 columns]"
      ]
     },
     "execution_count": 4,
     "metadata": {},
     "output_type": "execute_result"
    }
   ],
   "source": [
    "transactions_df"
   ]
  },
  {
   "cell_type": "markdown",
   "id": "599333cd",
   "metadata": {},
   "source": [
    "Calculate purchase frequency per customer"
   ]
  },
  {
   "cell_type": "code",
   "execution_count": 5,
   "id": "1ba69728",
   "metadata": {},
   "outputs": [],
   "source": [
    "transactions_per_customer = transactions_df.groupby('customerID')['purchaseDate'].count()\n",
    "avg_frequency = transactions_per_customer.mean()"
   ]
  },
  {
   "cell_type": "markdown",
   "id": "b41820de",
   "metadata": {},
   "source": [
    "Calculate lifespan for each customer"
   ]
  },
  {
   "cell_type": "code",
   "execution_count": 6,
   "id": "cda34a92",
   "metadata": {},
   "outputs": [],
   "source": [
    "minmax_purchase_dates_by_customer = transactions_df.groupby('customerID')['purchaseDate'].agg(['min','max'])"
   ]
  },
  {
   "cell_type": "code",
   "execution_count": 7,
   "id": "16c4a401",
   "metadata": {},
   "outputs": [],
   "source": [
    "customer_lifetimes = minmax_purchase_dates_by_customer.apply(lambda row: (row['max'] - row['min']).days, axis=1)\n",
    "avg_lifetime = customer_lifetimes.mean()"
   ]
  },
  {
   "cell_type": "markdown",
   "id": "cad63161",
   "metadata": {},
   "source": [
    "Calculate average monetary value per sale"
   ]
  },
  {
   "cell_type": "code",
   "execution_count": 8,
   "id": "9315ffad",
   "metadata": {},
   "outputs": [],
   "source": [
    "transactions_df['total'] = transactions_df['price'] * transactions_df['quantity']"
   ]
  },
  {
   "cell_type": "code",
   "execution_count": 9,
   "id": "bae36a1c",
   "metadata": {},
   "outputs": [],
   "source": [
    "avg_order_value = transactions_df['total'].mean()"
   ]
  },
  {
   "cell_type": "markdown",
   "id": "62982552",
   "metadata": {},
   "source": [
    "Customer lifetime value"
   ]
  },
  {
   "cell_type": "code",
   "execution_count": 10,
   "id": "1c76fa86",
   "metadata": {},
   "outputs": [
    {
     "data": {
      "text/plain": [
       "64906.257791258744"
      ]
     },
     "execution_count": 10,
     "metadata": {},
     "output_type": "execute_result"
    }
   ],
   "source": [
    "avg_frequency * avg_lifetime * avg_order_value"
   ]
  },
  {
   "cell_type": "code",
   "execution_count": 11,
   "id": "add19740",
   "metadata": {},
   "outputs": [],
   "source": [
    "avg_order_value_per_customer = transactions_df.groupby('customerID')['total'].mean()"
   ]
  },
  {
   "cell_type": "code",
   "execution_count": 12,
   "id": "f3613221",
   "metadata": {},
   "outputs": [
    {
     "data": {
      "text/plain": [
       "count    23570.000000\n",
       "mean       132.454416\n",
       "std        534.483751\n",
       "min          0.000000\n",
       "25%         15.360000\n",
       "50%         45.480000\n",
       "75%        112.900089\n",
       "max      35829.760000\n",
       "Name: total, dtype: float64"
      ]
     },
     "execution_count": 12,
     "metadata": {},
     "output_type": "execute_result"
    }
   ],
   "source": [
    "avg_order_value_per_customer.describe()"
   ]
  },
  {
   "cell_type": "code",
   "execution_count": 13,
   "id": "fa7ad5b0",
   "metadata": {},
   "outputs": [
    {
     "data": {
      "image/png": "[encoded data removed]",
      "text/plain": [
       "<Figure size 432x288 with 1 Axes>"
      ]
     },
     "metadata": {
      "needs_background": "light"
     },
     "output_type": "display_data"
    }
   ],
   "source": [
    "plt.boxplot(avg_order_value_per_customer);"
   ]
  },
  {
   "cell_type": "code",
   "execution_count": null,
   "id": "587170b3",
   "metadata": {},
   "outputs": [],
   "source": []
  }
 ],
 "metadata": {
  "kernelspec": {
   "display_name": "Python 3",
   "language": "python",
   "name": "python3"
  },
  "language_info": {
   "codemirror_mode": {
    "name": "ipython",
    "version": 3
   },
   "file_extension": ".py",
   "mimetype": "text/x-python",
   "name": "python",
   "nbconvert_exporter": "python",
   "pygments_lexer": "ipython3",
   "version": "3.8.8"
  }
 },
 "nbformat": 4,
 "nbformat_minor": 5
}
