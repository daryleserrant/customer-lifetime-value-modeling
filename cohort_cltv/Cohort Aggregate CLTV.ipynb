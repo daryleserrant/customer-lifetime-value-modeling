{
 "cells": [
  {
   "cell_type": "code",
   "execution_count": 1,
   "id": "43eb5e6d",
   "metadata": {},
   "outputs": [],
   "source": [
    "import pandas as pd\n",
    "import numpy as np\n",
    "from datetime import datetime"
   ]
  },
  {
   "cell_type": "markdown",
   "id": "4395cfa6",
   "metadata": {},
   "source": [
    "Read the dataset, parse the transactions, and create a dataframe"
   ]
  },
  {
   "cell_type": "code",
   "execution_count": 2,
   "id": "a90d8d1d",
   "metadata": {},
   "outputs": [],
   "source": [
    "with open('CDNOW_master.txt') as f:\n",
    "    dataset = f.read().split(\"\\n\")"
   ]
  },
  {
   "cell_type": "code",
   "execution_count": 3,
   "id": "a23674b7",
   "metadata": {},
   "outputs": [],
   "source": [
    "records = []\n",
    "for line in dataset:\n",
    "    if line == '':\n",
    "        continue\n",
    "    row = list(filter(lambda token: token != '', line.split(' ')))\n",
    "    rec = {}\n",
    "    rec['customerID'] = row[0]\n",
    "    rec['purchaseDate'] = datetime.strptime(row[1], '%Y%m%d')\n",
    "    rec['quantity'] = int(row[2])\n",
    "    rec['price'] = float(row[3])\n",
    "    records.append(rec)\n",
    "transactions_df = pd.DataFrame(records)"
   ]
  },
  {
   "cell_type": "code",
   "execution_count": 4,
   "id": "a1f9c350",
   "metadata": {},
   "outputs": [
    {
     "data": {
      "text/html": [
       "<div>\n",
       "<style scoped>\n",
       "    .dataframe tbody tr th:only-of-type {\n",
       "        vertical-align: middle;\n",
       "    }\n",
       "\n",
       "    .dataframe tbody tr th {\n",
       "        vertical-align: top;\n",
       "    }\n",
       "\n",
       "    .dataframe thead th {\n",
       "        text-align: right;\n",
       "    }\n",
       "</style>\n",
       "<table border=\"1\" class=\"dataframe\">\n",
       "  <thead>\n",
       "    <tr style=\"text-align: right;\">\n",
       "      <th></th>\n",
       "      <th>customerID</th>\n",
       "      <th>purchaseDate</th>\n",
       "      <th>quantity</th>\n",
       "      <th>price</th>\n",
       "    </tr>\n",
       "  </thead>\n",
       "  <tbody>\n",
       "    <tr>\n",
       "      <th>0</th>\n",
       "      <td>00001</td>\n",
       "      <td>1997-01-01</td>\n",
       "      <td>1</td>\n",
       "      <td>11.77</td>\n",
       "    </tr>\n",
       "    <tr>\n",
       "      <th>1</th>\n",
       "      <td>00002</td>\n",
       "      <td>1997-01-12</td>\n",
       "      <td>1</td>\n",
       "      <td>12.00</td>\n",
       "    </tr>\n",
       "    <tr>\n",
       "      <th>2</th>\n",
       "      <td>00002</td>\n",
       "      <td>1997-01-12</td>\n",
       "      <td>5</td>\n",
       "      <td>77.00</td>\n",
       "    </tr>\n",
       "    <tr>\n",
       "      <th>3</th>\n",
       "      <td>00003</td>\n",
       "      <td>1997-01-02</td>\n",
       "      <td>2</td>\n",
       "      <td>20.76</td>\n",
       "    </tr>\n",
       "    <tr>\n",
       "      <th>4</th>\n",
       "      <td>00003</td>\n",
       "      <td>1997-03-30</td>\n",
       "      <td>2</td>\n",
       "      <td>20.76</td>\n",
       "    </tr>\n",
       "    <tr>\n",
       "      <th>...</th>\n",
       "      <td>...</td>\n",
       "      <td>...</td>\n",
       "      <td>...</td>\n",
       "      <td>...</td>\n",
       "    </tr>\n",
       "    <tr>\n",
       "      <th>69654</th>\n",
       "      <td>23568</td>\n",
       "      <td>1997-04-05</td>\n",
       "      <td>4</td>\n",
       "      <td>83.74</td>\n",
       "    </tr>\n",
       "    <tr>\n",
       "      <th>69655</th>\n",
       "      <td>23568</td>\n",
       "      <td>1997-04-22</td>\n",
       "      <td>1</td>\n",
       "      <td>14.99</td>\n",
       "    </tr>\n",
       "    <tr>\n",
       "      <th>69656</th>\n",
       "      <td>23569</td>\n",
       "      <td>1997-03-25</td>\n",
       "      <td>2</td>\n",
       "      <td>25.74</td>\n",
       "    </tr>\n",
       "    <tr>\n",
       "      <th>69657</th>\n",
       "      <td>23570</td>\n",
       "      <td>1997-03-25</td>\n",
       "      <td>3</td>\n",
       "      <td>51.12</td>\n",
       "    </tr>\n",
       "    <tr>\n",
       "      <th>69658</th>\n",
       "      <td>23570</td>\n",
       "      <td>1997-03-26</td>\n",
       "      <td>2</td>\n",
       "      <td>42.96</td>\n",
       "    </tr>\n",
       "  </tbody>\n",
       "</table>\n",
       "<p>69659 rows × 4 columns</p>\n",
       "</div>"
      ],
      "text/plain": [
       "      customerID purchaseDate  quantity  price\n",
       "0          00001   1997-01-01         1  11.77\n",
       "1          00002   1997-01-12         1  12.00\n",
       "2          00002   1997-01-12         5  77.00\n",
       "3          00003   1997-01-02         2  20.76\n",
       "4          00003   1997-03-30         2  20.76\n",
       "...          ...          ...       ...    ...\n",
       "69654      23568   1997-04-05         4  83.74\n",
       "69655      23568   1997-04-22         1  14.99\n",
       "69656      23569   1997-03-25         2  25.74\n",
       "69657      23570   1997-03-25         3  51.12\n",
       "69658      23570   1997-03-26         2  42.96\n",
       "\n",
       "[69659 rows x 4 columns]"
      ]
     },
     "execution_count": 4,
     "metadata": {},
     "output_type": "execute_result"
    }
   ],
   "source": [
    "transactions_df"
   ]
  },
  {
   "cell_type": "markdown",
   "id": "884d2978",
   "metadata": {},
   "source": [
    "Next we'll create a new column in our dataframe that contains total dollar value for each transaction. This column will be used later when we calculate customer lifetime value for each cohort."
   ]
  },
  {
   "cell_type": "code",
   "execution_count": 5,
   "id": "4405ea37",
   "metadata": {},
   "outputs": [],
   "source": [
    "transactions_df['total'] = transactions_df['price'] * transactions_df['quantity']"
   ]
  },
  {
   "attachments": {},
   "cell_type": "markdown",
   "id": "ec7f6a8f",
   "metadata": {},
   "source": [
    "In order to compute the CLTV for each cohort we first need to figure out what month each person became a customer."
   ]
  },
  {
   "cell_type": "code",
   "execution_count": 6,
   "id": "6d3f3f57",
   "metadata": {},
   "outputs": [],
   "source": [
    "first_transactions_df = transactions_df.groupby('customerID')['purchaseDate'].min().reset_index()"
   ]
  },
  {
   "cell_type": "code",
   "execution_count": 7,
   "id": "cd42bcf2",
   "metadata": {},
   "outputs": [],
   "source": [
    "first_transactions_df['firstTransactionMonth'] = first_transactions_df['purchaseDate'].dt.month"
   ]
  },
  {
   "cell_type": "code",
   "execution_count": 8,
   "id": "63b11795",
   "metadata": {},
   "outputs": [
    {
     "data": {
      "text/plain": [
       "2    8476\n",
       "1    7846\n",
       "3    7248\n",
       "Name: firstTransactionMonth, dtype: int64"
      ]
     },
     "execution_count": 8,
     "metadata": {},
     "output_type": "execute_result"
    }
   ],
   "source": [
    "first_transactions_df['firstTransactionMonth'].value_counts()"
   ]
  },
  {
   "cell_type": "markdown",
   "id": "d3b5e79e",
   "metadata": {},
   "source": [
    "Merge the first transaction month with the transactions dataframe so everything is in one place"
   ]
  },
  {
   "cell_type": "code",
   "execution_count": 9,
   "id": "1db990e1",
   "metadata": {},
   "outputs": [],
   "source": [
    "transactions_df = pd.merge(transactions_df, first_transactions_df[['customerID','firstTransactionMonth']], on='customerID')"
   ]
  },
  {
   "cell_type": "code",
   "execution_count": 10,
   "id": "10291b0a",
   "metadata": {},
   "outputs": [
    {
     "data": {
      "text/html": [
       "<div>\n",
       "<style scoped>\n",
       "    .dataframe tbody tr th:only-of-type {\n",
       "        vertical-align: middle;\n",
       "    }\n",
       "\n",
       "    .dataframe tbody tr th {\n",
       "        vertical-align: top;\n",
       "    }\n",
       "\n",
       "    .dataframe thead th {\n",
       "        text-align: right;\n",
       "    }\n",
       "</style>\n",
       "<table border=\"1\" class=\"dataframe\">\n",
       "  <thead>\n",
       "    <tr style=\"text-align: right;\">\n",
       "      <th></th>\n",
       "      <th>customerID</th>\n",
       "      <th>purchaseDate</th>\n",
       "      <th>quantity</th>\n",
       "      <th>price</th>\n",
       "      <th>total</th>\n",
       "      <th>firstTransactionMonth</th>\n",
       "    </tr>\n",
       "  </thead>\n",
       "  <tbody>\n",
       "    <tr>\n",
       "      <th>0</th>\n",
       "      <td>00001</td>\n",
       "      <td>1997-01-01</td>\n",
       "      <td>1</td>\n",
       "      <td>11.77</td>\n",
       "      <td>11.77</td>\n",
       "      <td>1</td>\n",
       "    </tr>\n",
       "    <tr>\n",
       "      <th>1</th>\n",
       "      <td>00002</td>\n",
       "      <td>1997-01-12</td>\n",
       "      <td>1</td>\n",
       "      <td>12.00</td>\n",
       "      <td>12.00</td>\n",
       "      <td>1</td>\n",
       "    </tr>\n",
       "    <tr>\n",
       "      <th>2</th>\n",
       "      <td>00002</td>\n",
       "      <td>1997-01-12</td>\n",
       "      <td>5</td>\n",
       "      <td>77.00</td>\n",
       "      <td>385.00</td>\n",
       "      <td>1</td>\n",
       "    </tr>\n",
       "    <tr>\n",
       "      <th>3</th>\n",
       "      <td>00003</td>\n",
       "      <td>1997-01-02</td>\n",
       "      <td>2</td>\n",
       "      <td>20.76</td>\n",
       "      <td>41.52</td>\n",
       "      <td>1</td>\n",
       "    </tr>\n",
       "    <tr>\n",
       "      <th>4</th>\n",
       "      <td>00003</td>\n",
       "      <td>1997-03-30</td>\n",
       "      <td>2</td>\n",
       "      <td>20.76</td>\n",
       "      <td>41.52</td>\n",
       "      <td>1</td>\n",
       "    </tr>\n",
       "    <tr>\n",
       "      <th>...</th>\n",
       "      <td>...</td>\n",
       "      <td>...</td>\n",
       "      <td>...</td>\n",
       "      <td>...</td>\n",
       "      <td>...</td>\n",
       "      <td>...</td>\n",
       "    </tr>\n",
       "    <tr>\n",
       "      <th>69654</th>\n",
       "      <td>23568</td>\n",
       "      <td>1997-04-05</td>\n",
       "      <td>4</td>\n",
       "      <td>83.74</td>\n",
       "      <td>334.96</td>\n",
       "      <td>3</td>\n",
       "    </tr>\n",
       "    <tr>\n",
       "      <th>69655</th>\n",
       "      <td>23568</td>\n",
       "      <td>1997-04-22</td>\n",
       "      <td>1</td>\n",
       "      <td>14.99</td>\n",
       "      <td>14.99</td>\n",
       "      <td>3</td>\n",
       "    </tr>\n",
       "    <tr>\n",
       "      <th>69656</th>\n",
       "      <td>23569</td>\n",
       "      <td>1997-03-25</td>\n",
       "      <td>2</td>\n",
       "      <td>25.74</td>\n",
       "      <td>51.48</td>\n",
       "      <td>3</td>\n",
       "    </tr>\n",
       "    <tr>\n",
       "      <th>69657</th>\n",
       "      <td>23570</td>\n",
       "      <td>1997-03-25</td>\n",
       "      <td>3</td>\n",
       "      <td>51.12</td>\n",
       "      <td>153.36</td>\n",
       "      <td>3</td>\n",
       "    </tr>\n",
       "    <tr>\n",
       "      <th>69658</th>\n",
       "      <td>23570</td>\n",
       "      <td>1997-03-26</td>\n",
       "      <td>2</td>\n",
       "      <td>42.96</td>\n",
       "      <td>85.92</td>\n",
       "      <td>3</td>\n",
       "    </tr>\n",
       "  </tbody>\n",
       "</table>\n",
       "<p>69659 rows × 6 columns</p>\n",
       "</div>"
      ],
      "text/plain": [
       "      customerID purchaseDate  quantity  price   total  firstTransactionMonth\n",
       "0          00001   1997-01-01         1  11.77   11.77                      1\n",
       "1          00002   1997-01-12         1  12.00   12.00                      1\n",
       "2          00002   1997-01-12         5  77.00  385.00                      1\n",
       "3          00003   1997-01-02         2  20.76   41.52                      1\n",
       "4          00003   1997-03-30         2  20.76   41.52                      1\n",
       "...          ...          ...       ...    ...     ...                    ...\n",
       "69654      23568   1997-04-05         4  83.74  334.96                      3\n",
       "69655      23568   1997-04-22         1  14.99   14.99                      3\n",
       "69656      23569   1997-03-25         2  25.74   51.48                      3\n",
       "69657      23570   1997-03-25         3  51.12  153.36                      3\n",
       "69658      23570   1997-03-26         2  42.96   85.92                      3\n",
       "\n",
       "[69659 rows x 6 columns]"
      ]
     },
     "execution_count": 10,
     "metadata": {},
     "output_type": "execute_result"
    }
   ],
   "source": [
    "transactions_df"
   ]
  },
  {
   "cell_type": "code",
   "execution_count": 11,
   "id": "29d6bf7a",
   "metadata": {},
   "outputs": [],
   "source": [
    "def calculate_cltv(df):\n",
    "    transactions_per_customer = df.groupby('customerID')['purchaseDate'].count()\n",
    "    avg_frequency = transactions_per_customer.mean()\n",
    "    \n",
    "    minmax_purchase_dates_by_customer = df.groupby('customerID')['purchaseDate'].agg(['min','max'])\n",
    "    \n",
    "    customer_lifetimes = minmax_purchase_dates_by_customer.apply(lambda row: (row['max'] - row['min']).days, axis=1)\n",
    "    avg_lifetime = customer_lifetimes.mean()\n",
    "    \n",
    "    avg_order_value = transactions_df['total'].mean()\n",
    "    \n",
    "    return avg_frequency * avg_lifetime * avg_order_value"
   ]
  },
  {
   "cell_type": "code",
   "execution_count": 12,
   "id": "194efe87",
   "metadata": {},
   "outputs": [
    {
     "data": {
      "text/plain": [
       "firstTransactionMonth\n",
       "1    72214.401472\n",
       "2    64254.296091\n",
       "3    58151.591189\n",
       "dtype: float64"
      ]
     },
     "execution_count": 12,
     "metadata": {},
     "output_type": "execute_result"
    }
   ],
   "source": [
    "transactions_df.groupby('firstTransactionMonth').apply(calculate_cltv)"
   ]
  },
  {
   "cell_type": "code",
   "execution_count": null,
   "id": "02d33ea5",
   "metadata": {},
   "outputs": [],
   "source": []
  }
 ],
 "metadata": {
  "kernelspec": {
   "display_name": "Python 3",
   "language": "python",
   "name": "python3"
  },
  "language_info": {
   "codemirror_mode": {
    "name": "ipython",
    "version": 3
   },
   "file_extension": ".py",
   "mimetype": "text/x-python",
   "name": "python",
   "nbconvert_exporter": "python",
   "pygments_lexer": "ipython3",
   "version": "3.8.8"
  }
 },
 "nbformat": 4,
 "nbformat_minor": 5
}
